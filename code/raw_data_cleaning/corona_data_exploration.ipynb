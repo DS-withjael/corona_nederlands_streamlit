{
 "cells": [
  {
   "cell_type": "code",
   "execution_count": 1,
   "metadata": {
    "collapsed": true
   },
   "outputs": [],
   "source": [
    "import pandas as pd"
   ]
  },
  {
   "cell_type": "code",
   "execution_count": 2,
   "metadata": {
    "collapsed": false,
    "pycharm": {
     "name": "#%%\n"
    }
   },
   "outputs": [
    {
     "name": "stdout",
     "output_type": "stream",
     "text": [
      "(4152, 9)\n"
     ]
    }
   ],
   "source": [
    "corona_data_nl = pd.read_csv(\"../../data/raw_data/corona/nl_corona.csv\", delimiter= \"\\t\").dropna()\n",
    "print(corona_data_nl.shape)"
   ]
  },
  {
   "cell_type": "code",
   "execution_count": 3,
   "metadata": {
    "collapsed": false,
    "pycharm": {
     "name": "#%%\n"
    }
   },
   "outputs": [
    {
     "name": "stdout",
     "output_type": "stream",
     "text": [
      "False\n"
     ]
    }
   ],
   "source": [
    "print(corona_data_nl.isna().any().any())"
   ]
  },
  {
   "cell_type": "code",
   "execution_count": 4,
   "metadata": {
    "collapsed": false,
    "pycharm": {
     "name": "#%%\n"
    }
   },
   "outputs": [
    {
     "data": {
      "text/html": [
       "<div>\n",
       "<style scoped>\n",
       "    .dataframe tbody tr th:only-of-type {\n",
       "        vertical-align: middle;\n",
       "    }\n",
       "\n",
       "    .dataframe tbody tr th {\n",
       "        vertical-align: top;\n",
       "    }\n",
       "\n",
       "    .dataframe thead th {\n",
       "        text-align: right;\n",
       "    }\n",
       "</style>\n",
       "<table border=\"1\" class=\"dataframe\">\n",
       "  <thead>\n",
       "    <tr style=\"text-align: right;\">\n",
       "      <th></th>\n",
       "      <th>date</th>\n",
       "      <th>region_name</th>\n",
       "      <th>region_code</th>\n",
       "      <th>deceased_addition</th>\n",
       "      <th>confirmed_addition</th>\n",
       "      <th>hospitalized_addition</th>\n",
       "      <th>deceased_cumulative</th>\n",
       "      <th>confirmed_cumulative</th>\n",
       "      <th>hospitalized_cumulative</th>\n",
       "    </tr>\n",
       "  </thead>\n",
       "  <tbody>\n",
       "    <tr>\n",
       "      <th>192</th>\n",
       "      <td>2020-03-14</td>\n",
       "      <td>Drenthe</td>\n",
       "      <td>22</td>\n",
       "      <td>0.0</td>\n",
       "      <td>2.0</td>\n",
       "      <td>0.0</td>\n",
       "      <td>0.0</td>\n",
       "      <td>15</td>\n",
       "      <td>0.0</td>\n",
       "    </tr>\n",
       "    <tr>\n",
       "      <th>193</th>\n",
       "      <td>2020-03-14</td>\n",
       "      <td>Flevoland</td>\n",
       "      <td>24</td>\n",
       "      <td>0.0</td>\n",
       "      <td>7.0</td>\n",
       "      <td>0.0</td>\n",
       "      <td>0.0</td>\n",
       "      <td>14</td>\n",
       "      <td>3.0</td>\n",
       "    </tr>\n",
       "    <tr>\n",
       "      <th>194</th>\n",
       "      <td>2020-03-14</td>\n",
       "      <td>Friesland</td>\n",
       "      <td>21</td>\n",
       "      <td>0.0</td>\n",
       "      <td>1.0</td>\n",
       "      <td>0.0</td>\n",
       "      <td>0.0</td>\n",
       "      <td>8</td>\n",
       "      <td>1.0</td>\n",
       "    </tr>\n",
       "    <tr>\n",
       "      <th>195</th>\n",
       "      <td>2020-03-14</td>\n",
       "      <td>Gelderland</td>\n",
       "      <td>25</td>\n",
       "      <td>1.0</td>\n",
       "      <td>12.0</td>\n",
       "      <td>5.0</td>\n",
       "      <td>1.0</td>\n",
       "      <td>76</td>\n",
       "      <td>14.0</td>\n",
       "    </tr>\n",
       "    <tr>\n",
       "      <th>196</th>\n",
       "      <td>2020-03-14</td>\n",
       "      <td>Groningen</td>\n",
       "      <td>20</td>\n",
       "      <td>0.0</td>\n",
       "      <td>0.0</td>\n",
       "      <td>0.0</td>\n",
       "      <td>0.0</td>\n",
       "      <td>4</td>\n",
       "      <td>1.0</td>\n",
       "    </tr>\n",
       "    <tr>\n",
       "      <th>...</th>\n",
       "      <td>...</td>\n",
       "      <td>...</td>\n",
       "      <td>...</td>\n",
       "      <td>...</td>\n",
       "      <td>...</td>\n",
       "      <td>...</td>\n",
       "      <td>...</td>\n",
       "      <td>...</td>\n",
       "      <td>...</td>\n",
       "    </tr>\n",
       "    <tr>\n",
       "      <th>4339</th>\n",
       "      <td>2021-02-22</td>\n",
       "      <td>Noord-Holland</td>\n",
       "      <td>27</td>\n",
       "      <td>6.0</td>\n",
       "      <td>821.0</td>\n",
       "      <td>12.0</td>\n",
       "      <td>2206.0</td>\n",
       "      <td>180576</td>\n",
       "      <td>3666.0</td>\n",
       "    </tr>\n",
       "    <tr>\n",
       "      <th>4340</th>\n",
       "      <td>2021-02-22</td>\n",
       "      <td>Overijssel</td>\n",
       "      <td>23</td>\n",
       "      <td>1.0</td>\n",
       "      <td>197.0</td>\n",
       "      <td>2.0</td>\n",
       "      <td>1018.0</td>\n",
       "      <td>74359</td>\n",
       "      <td>1125.0</td>\n",
       "    </tr>\n",
       "    <tr>\n",
       "      <th>4341</th>\n",
       "      <td>2021-02-22</td>\n",
       "      <td>Utrecht</td>\n",
       "      <td>26</td>\n",
       "      <td>1.0</td>\n",
       "      <td>291.0</td>\n",
       "      <td>4.0</td>\n",
       "      <td>1111.0</td>\n",
       "      <td>84449</td>\n",
       "      <td>1971.0</td>\n",
       "    </tr>\n",
       "    <tr>\n",
       "      <th>4342</th>\n",
       "      <td>2021-02-22</td>\n",
       "      <td>Zeeland</td>\n",
       "      <td>29</td>\n",
       "      <td>1.0</td>\n",
       "      <td>77.0</td>\n",
       "      <td>1.0</td>\n",
       "      <td>171.0</td>\n",
       "      <td>15987</td>\n",
       "      <td>456.0</td>\n",
       "    </tr>\n",
       "    <tr>\n",
       "      <th>4343</th>\n",
       "      <td>2021-02-22</td>\n",
       "      <td>Zuid-Holland</td>\n",
       "      <td>28</td>\n",
       "      <td>5.0</td>\n",
       "      <td>802.0</td>\n",
       "      <td>26.0</td>\n",
       "      <td>3653.0</td>\n",
       "      <td>250759</td>\n",
       "      <td>6043.0</td>\n",
       "    </tr>\n",
       "  </tbody>\n",
       "</table>\n",
       "<p>4152 rows × 9 columns</p>\n",
       "</div>"
      ],
      "text/plain": [
       "            date    region_name  region_code  deceased_addition  \\\n",
       "192   2020-03-14        Drenthe           22                0.0   \n",
       "193   2020-03-14      Flevoland           24                0.0   \n",
       "194   2020-03-14      Friesland           21                0.0   \n",
       "195   2020-03-14     Gelderland           25                1.0   \n",
       "196   2020-03-14      Groningen           20                0.0   \n",
       "...          ...            ...          ...                ...   \n",
       "4339  2021-02-22  Noord-Holland           27                6.0   \n",
       "4340  2021-02-22     Overijssel           23                1.0   \n",
       "4341  2021-02-22        Utrecht           26                1.0   \n",
       "4342  2021-02-22        Zeeland           29                1.0   \n",
       "4343  2021-02-22   Zuid-Holland           28                5.0   \n",
       "\n",
       "      confirmed_addition  hospitalized_addition  deceased_cumulative  \\\n",
       "192                  2.0                    0.0                  0.0   \n",
       "193                  7.0                    0.0                  0.0   \n",
       "194                  1.0                    0.0                  0.0   \n",
       "195                 12.0                    5.0                  1.0   \n",
       "196                  0.0                    0.0                  0.0   \n",
       "...                  ...                    ...                  ...   \n",
       "4339               821.0                   12.0               2206.0   \n",
       "4340               197.0                    2.0               1018.0   \n",
       "4341               291.0                    4.0               1111.0   \n",
       "4342                77.0                    1.0                171.0   \n",
       "4343               802.0                   26.0               3653.0   \n",
       "\n",
       "      confirmed_cumulative  hospitalized_cumulative  \n",
       "192                     15                      0.0  \n",
       "193                     14                      3.0  \n",
       "194                      8                      1.0  \n",
       "195                     76                     14.0  \n",
       "196                      4                      1.0  \n",
       "...                    ...                      ...  \n",
       "4339                180576                   3666.0  \n",
       "4340                 74359                   1125.0  \n",
       "4341                 84449                   1971.0  \n",
       "4342                 15987                    456.0  \n",
       "4343                250759                   6043.0  \n",
       "\n",
       "[4152 rows x 9 columns]"
      ]
     },
     "execution_count": 4,
     "metadata": {},
     "output_type": "execute_result"
    }
   ],
   "source": [
    "corona_data_nl"
   ]
  }
 ],
 "metadata": {
  "kernelspec": {
   "display_name": "Python 3",
   "language": "python",
   "name": "python3"
  },
  "language_info": {
   "codemirror_mode": {
    "name": "ipython",
    "version": 3
   },
   "file_extension": ".py",
   "mimetype": "text/x-python",
   "name": "python",
   "nbconvert_exporter": "python",
   "pygments_lexer": "ipython3",
   "version": "3.8.12"
  }
 },
 "nbformat": 4,
 "nbformat_minor": 0
}
